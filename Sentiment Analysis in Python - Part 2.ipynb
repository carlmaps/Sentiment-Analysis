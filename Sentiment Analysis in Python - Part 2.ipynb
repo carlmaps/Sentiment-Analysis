{
 "cells": [
  {
   "cell_type": "markdown",
   "metadata": {},
   "source": [
    "### Sentiment Analysis in Python - Part 2\n",
    "\n",
    "This is the continuation from part 1. I have saved the data from part 1 into a csv file format. Below lines of code will simply read the csv file into a dataframe."
   ]
  },
  {
   "cell_type": "code",
   "execution_count": 158,
   "metadata": {},
   "outputs": [],
   "source": [
    "import numpy as np\n",
    "import pandas as pd"
   ]
  },
  {
   "cell_type": "code",
   "execution_count": 159,
   "metadata": {},
   "outputs": [],
   "source": [
    "train_reviews = pd.read_csv('train_reviews.csv')"
   ]
  },
  {
   "cell_type": "code",
   "execution_count": 160,
   "metadata": {},
   "outputs": [],
   "source": [
    "test_reviews = pd.read_csv('test_reviews.csv')"
   ]
  },
  {
   "cell_type": "code",
   "execution_count": 161,
   "metadata": {},
   "outputs": [
    {
     "data": {
      "text/html": [
       "<div>\n",
       "<style scoped>\n",
       "    .dataframe tbody tr th:only-of-type {\n",
       "        vertical-align: middle;\n",
       "    }\n",
       "\n",
       "    .dataframe tbody tr th {\n",
       "        vertical-align: top;\n",
       "    }\n",
       "\n",
       "    .dataframe thead th {\n",
       "        text-align: right;\n",
       "    }\n",
       "</style>\n",
       "<table border=\"1\" class=\"dataframe\">\n",
       "  <thead>\n",
       "    <tr style=\"text-align: right;\">\n",
       "      <th></th>\n",
       "      <th>Unnamed: 0</th>\n",
       "      <th>review</th>\n",
       "      <th>label</th>\n",
       "      <th>file</th>\n",
       "      <th>tidy_review</th>\n",
       "      <th>reviews_without_stopwords</th>\n",
       "      <th>normalized</th>\n",
       "    </tr>\n",
       "  </thead>\n",
       "  <tbody>\n",
       "    <tr>\n",
       "      <th>0</th>\n",
       "      <td>8372</td>\n",
       "      <td>gone in 60 sec. where do i began, it keeps you...</td>\n",
       "      <td>1</td>\n",
       "      <td>6286_8.txt</td>\n",
       "      <td>gone in 60 sec where do i began it keeps you i...</td>\n",
       "      <td>gone 60 sec began keeps movie good action cool...</td>\n",
       "      <td>gone 60 sec began keep movi good action cool c...</td>\n",
       "    </tr>\n",
       "    <tr>\n",
       "      <th>1</th>\n",
       "      <td>22624</td>\n",
       "      <td>THHE2 is entertaining in that you'll laugh a l...</td>\n",
       "      <td>0</td>\n",
       "      <td>7863_4.txt</td>\n",
       "      <td>thhe2 is entertaining in that youll laugh a lo...</td>\n",
       "      <td>thhe2 entertaining youll laugh lot cringe prob...</td>\n",
       "      <td>thhe2 entertain youll laugh lot cring probabl ...</td>\n",
       "    </tr>\n",
       "    <tr>\n",
       "      <th>2</th>\n",
       "      <td>22032</td>\n",
       "      <td>A young boy sees his mother getting killed and...</td>\n",
       "      <td>0</td>\n",
       "      <td>732_1.txt</td>\n",
       "      <td>a young boy sees his mother getting killed and...</td>\n",
       "      <td>young boy sees mother getting killed father ha...</td>\n",
       "      <td>young boy see mother get kill father hang 20 y...</td>\n",
       "    </tr>\n",
       "    <tr>\n",
       "      <th>3</th>\n",
       "      <td>798</td>\n",
       "      <td>Spacecamp is a movie that I plan to show my Da...</td>\n",
       "      <td>1</td>\n",
       "      <td>10719_10.txt</td>\n",
       "      <td>spacecamp is a movie that i plan to show my da...</td>\n",
       "      <td>spacecamp movie plan show daughter julia ann r...</td>\n",
       "      <td>spacecamp movi plan show daughter julia ann ru...</td>\n",
       "    </tr>\n",
       "    <tr>\n",
       "      <th>4</th>\n",
       "      <td>14317</td>\n",
       "      <td>I'm not going to waste my time writing an essa...</td>\n",
       "      <td>0</td>\n",
       "      <td>11636_3.txt</td>\n",
       "      <td>im not going to waste my time writing an essay...</td>\n",
       "      <td>im going waste time writing essay waste time w...</td>\n",
       "      <td>im go wast time write essay wast time would li...</td>\n",
       "    </tr>\n",
       "  </tbody>\n",
       "</table>\n",
       "</div>"
      ],
      "text/plain": [
       "   Unnamed: 0                                             review  label  \\\n",
       "0        8372  gone in 60 sec. where do i began, it keeps you...      1   \n",
       "1       22624  THHE2 is entertaining in that you'll laugh a l...      0   \n",
       "2       22032  A young boy sees his mother getting killed and...      0   \n",
       "3         798  Spacecamp is a movie that I plan to show my Da...      1   \n",
       "4       14317  I'm not going to waste my time writing an essa...      0   \n",
       "\n",
       "           file                                        tidy_review  \\\n",
       "0    6286_8.txt  gone in 60 sec where do i began it keeps you i...   \n",
       "1    7863_4.txt  thhe2 is entertaining in that youll laugh a lo...   \n",
       "2     732_1.txt  a young boy sees his mother getting killed and...   \n",
       "3  10719_10.txt  spacecamp is a movie that i plan to show my da...   \n",
       "4   11636_3.txt  im not going to waste my time writing an essay...   \n",
       "\n",
       "                           reviews_without_stopwords  \\\n",
       "0  gone 60 sec began keeps movie good action cool...   \n",
       "1  thhe2 entertaining youll laugh lot cringe prob...   \n",
       "2  young boy sees mother getting killed father ha...   \n",
       "3  spacecamp movie plan show daughter julia ann r...   \n",
       "4  im going waste time writing essay waste time w...   \n",
       "\n",
       "                                          normalized  \n",
       "0  gone 60 sec began keep movi good action cool c...  \n",
       "1  thhe2 entertain youll laugh lot cring probabl ...  \n",
       "2  young boy see mother get kill father hang 20 y...  \n",
       "3  spacecamp movi plan show daughter julia ann ru...  \n",
       "4  im go wast time write essay wast time would li...  "
      ]
     },
     "execution_count": 161,
     "metadata": {},
     "output_type": "execute_result"
    }
   ],
   "source": [
    "train_reviews.head()"
   ]
  },
  {
   "cell_type": "code",
   "execution_count": 162,
   "metadata": {},
   "outputs": [
    {
     "data": {
      "text/html": [
       "<div>\n",
       "<style scoped>\n",
       "    .dataframe tbody tr th:only-of-type {\n",
       "        vertical-align: middle;\n",
       "    }\n",
       "\n",
       "    .dataframe tbody tr th {\n",
       "        vertical-align: top;\n",
       "    }\n",
       "\n",
       "    .dataframe thead th {\n",
       "        text-align: right;\n",
       "    }\n",
       "</style>\n",
       "<table border=\"1\" class=\"dataframe\">\n",
       "  <thead>\n",
       "    <tr style=\"text-align: right;\">\n",
       "      <th></th>\n",
       "      <th>Unnamed: 0</th>\n",
       "      <th>review</th>\n",
       "      <th>label</th>\n",
       "      <th>file</th>\n",
       "      <th>tidy_review</th>\n",
       "      <th>reviews_without_stopwords</th>\n",
       "      <th>normalized</th>\n",
       "    </tr>\n",
       "  </thead>\n",
       "  <tbody>\n",
       "    <tr>\n",
       "      <th>0</th>\n",
       "      <td>24702</td>\n",
       "      <td>Basic summary: Ipswitch used to be a community...</td>\n",
       "      <td>0</td>\n",
       "      <td>9733_4.txt</td>\n",
       "      <td>basic summary ipswitch used to be a community ...</td>\n",
       "      <td>basic summary ipswitch used community witches ...</td>\n",
       "      <td>basic summari ipswitch use commun witch escap ...</td>\n",
       "    </tr>\n",
       "    <tr>\n",
       "      <th>1</th>\n",
       "      <td>24288</td>\n",
       "      <td>I have no respect for IMDb ratings anymore. I ...</td>\n",
       "      <td>0</td>\n",
       "      <td>9360_1.txt</td>\n",
       "      <td>i have no respect for imdb ratings anymore i t...</td>\n",
       "      <td>respect imdb ratings anymore think bunch mormo...</td>\n",
       "      <td>respect imdb rate anymor think bunch mormon fl...</td>\n",
       "    </tr>\n",
       "    <tr>\n",
       "      <th>2</th>\n",
       "      <td>2743</td>\n",
       "      <td>I really enjoyed this movie. Yes there was dis...</td>\n",
       "      <td>1</td>\n",
       "      <td>1246_9.txt</td>\n",
       "      <td>i really enjoyed this movie yes there was disr...</td>\n",
       "      <td>really enjoyed movie yes disrespect throughout...</td>\n",
       "      <td>realli enjoy movi ye disrespect throughout mov...</td>\n",
       "    </tr>\n",
       "    <tr>\n",
       "      <th>3</th>\n",
       "      <td>6856</td>\n",
       "      <td>This is a classic animated film from the carto...</td>\n",
       "      <td>1</td>\n",
       "      <td>4921_10.txt</td>\n",
       "      <td>this is a classic animated film from the carto...</td>\n",
       "      <td>classic animated film cartoon series major cha...</td>\n",
       "      <td>classic anim film cartoon seri major charact g...</td>\n",
       "    </tr>\n",
       "    <tr>\n",
       "      <th>4</th>\n",
       "      <td>17403</td>\n",
       "      <td>Frankly I met real Han Su Ying before and seei...</td>\n",
       "      <td>0</td>\n",
       "      <td>3163_4.txt</td>\n",
       "      <td>frankly i met real han su ying before and seei...</td>\n",
       "      <td>frankly met real han su ying seeing portrayed ...</td>\n",
       "      <td>frankli met real han su ying see portray ameri...</td>\n",
       "    </tr>\n",
       "  </tbody>\n",
       "</table>\n",
       "</div>"
      ],
      "text/plain": [
       "   Unnamed: 0                                             review  label  \\\n",
       "0       24702  Basic summary: Ipswitch used to be a community...      0   \n",
       "1       24288  I have no respect for IMDb ratings anymore. I ...      0   \n",
       "2        2743  I really enjoyed this movie. Yes there was dis...      1   \n",
       "3        6856  This is a classic animated film from the carto...      1   \n",
       "4       17403  Frankly I met real Han Su Ying before and seei...      0   \n",
       "\n",
       "          file                                        tidy_review  \\\n",
       "0   9733_4.txt  basic summary ipswitch used to be a community ...   \n",
       "1   9360_1.txt  i have no respect for imdb ratings anymore i t...   \n",
       "2   1246_9.txt  i really enjoyed this movie yes there was disr...   \n",
       "3  4921_10.txt  this is a classic animated film from the carto...   \n",
       "4   3163_4.txt  frankly i met real han su ying before and seei...   \n",
       "\n",
       "                           reviews_without_stopwords  \\\n",
       "0  basic summary ipswitch used community witches ...   \n",
       "1  respect imdb ratings anymore think bunch mormo...   \n",
       "2  really enjoyed movie yes disrespect throughout...   \n",
       "3  classic animated film cartoon series major cha...   \n",
       "4  frankly met real han su ying seeing portrayed ...   \n",
       "\n",
       "                                          normalized  \n",
       "0  basic summari ipswitch use commun witch escap ...  \n",
       "1  respect imdb rate anymor think bunch mormon fl...  \n",
       "2  realli enjoy movi ye disrespect throughout mov...  \n",
       "3  classic anim film cartoon seri major charact g...  \n",
       "4  frankli met real han su ying see portray ameri...  "
      ]
     },
     "execution_count": 162,
     "metadata": {},
     "output_type": "execute_result"
    }
   ],
   "source": [
    "test_reviews.head()"
   ]
  },
  {
   "cell_type": "markdown",
   "metadata": {},
   "source": [
    "Since we only need the normalized review data and the label columns, we will removed the other columns.We will do the same for the test_review dataset"
   ]
  },
  {
   "cell_type": "code",
   "execution_count": 148,
   "metadata": {},
   "outputs": [],
   "source": [
    "train_reviews.drop([train_reviews.columns[0],'review', 'file', 'tidy_review', 'reviews_without_stopwords'], axis=1, inplace=True)"
   ]
  },
  {
   "cell_type": "code",
   "execution_count": 149,
   "metadata": {},
   "outputs": [
    {
     "data": {
      "text/html": [
       "<div>\n",
       "<style scoped>\n",
       "    .dataframe tbody tr th:only-of-type {\n",
       "        vertical-align: middle;\n",
       "    }\n",
       "\n",
       "    .dataframe tbody tr th {\n",
       "        vertical-align: top;\n",
       "    }\n",
       "\n",
       "    .dataframe thead th {\n",
       "        text-align: right;\n",
       "    }\n",
       "</style>\n",
       "<table border=\"1\" class=\"dataframe\">\n",
       "  <thead>\n",
       "    <tr style=\"text-align: right;\">\n",
       "      <th></th>\n",
       "      <th>label</th>\n",
       "      <th>normalized</th>\n",
       "    </tr>\n",
       "  </thead>\n",
       "  <tbody>\n",
       "    <tr>\n",
       "      <th>0</th>\n",
       "      <td>1</td>\n",
       "      <td>gone 60 sec began keep movi good action cool c...</td>\n",
       "    </tr>\n",
       "    <tr>\n",
       "      <th>1</th>\n",
       "      <td>0</td>\n",
       "      <td>thhe2 entertain youll laugh lot cring probabl ...</td>\n",
       "    </tr>\n",
       "    <tr>\n",
       "      <th>2</th>\n",
       "      <td>0</td>\n",
       "      <td>young boy see mother get kill father hang 20 y...</td>\n",
       "    </tr>\n",
       "    <tr>\n",
       "      <th>3</th>\n",
       "      <td>1</td>\n",
       "      <td>spacecamp movi plan show daughter julia ann ru...</td>\n",
       "    </tr>\n",
       "    <tr>\n",
       "      <th>4</th>\n",
       "      <td>0</td>\n",
       "      <td>im go wast time write essay wast time would li...</td>\n",
       "    </tr>\n",
       "  </tbody>\n",
       "</table>\n",
       "</div>"
      ],
      "text/plain": [
       "   label                                         normalized\n",
       "0      1  gone 60 sec began keep movi good action cool c...\n",
       "1      0  thhe2 entertain youll laugh lot cring probabl ...\n",
       "2      0  young boy see mother get kill father hang 20 y...\n",
       "3      1  spacecamp movi plan show daughter julia ann ru...\n",
       "4      0  im go wast time write essay wast time would li..."
      ]
     },
     "execution_count": 149,
     "metadata": {},
     "output_type": "execute_result"
    }
   ],
   "source": [
    "train_reviews.head()"
   ]
  },
  {
   "cell_type": "code",
   "execution_count": 151,
   "metadata": {},
   "outputs": [],
   "source": [
    "test_reviews.drop([test_reviews.columns[0],'review', 'file', 'tidy_review', 'reviews_without_stopwords'], axis=1, inplace=True)"
   ]
  },
  {
   "cell_type": "code",
   "execution_count": 152,
   "metadata": {},
   "outputs": [
    {
     "data": {
      "text/html": [
       "<div>\n",
       "<style scoped>\n",
       "    .dataframe tbody tr th:only-of-type {\n",
       "        vertical-align: middle;\n",
       "    }\n",
       "\n",
       "    .dataframe tbody tr th {\n",
       "        vertical-align: top;\n",
       "    }\n",
       "\n",
       "    .dataframe thead th {\n",
       "        text-align: right;\n",
       "    }\n",
       "</style>\n",
       "<table border=\"1\" class=\"dataframe\">\n",
       "  <thead>\n",
       "    <tr style=\"text-align: right;\">\n",
       "      <th></th>\n",
       "      <th>label</th>\n",
       "      <th>normalized</th>\n",
       "    </tr>\n",
       "  </thead>\n",
       "  <tbody>\n",
       "    <tr>\n",
       "      <th>0</th>\n",
       "      <td>0</td>\n",
       "      <td>basic summari ipswitch use commun witch escap ...</td>\n",
       "    </tr>\n",
       "    <tr>\n",
       "      <th>1</th>\n",
       "      <td>0</td>\n",
       "      <td>respect imdb rate anymor think bunch mormon fl...</td>\n",
       "    </tr>\n",
       "    <tr>\n",
       "      <th>2</th>\n",
       "      <td>1</td>\n",
       "      <td>realli enjoy movi ye disrespect throughout mov...</td>\n",
       "    </tr>\n",
       "    <tr>\n",
       "      <th>3</th>\n",
       "      <td>1</td>\n",
       "      <td>classic anim film cartoon seri major charact g...</td>\n",
       "    </tr>\n",
       "    <tr>\n",
       "      <th>4</th>\n",
       "      <td>0</td>\n",
       "      <td>frankli met real han su ying see portray ameri...</td>\n",
       "    </tr>\n",
       "  </tbody>\n",
       "</table>\n",
       "</div>"
      ],
      "text/plain": [
       "   label                                         normalized\n",
       "0      0  basic summari ipswitch use commun witch escap ...\n",
       "1      0  respect imdb rate anymor think bunch mormon fl...\n",
       "2      1  realli enjoy movi ye disrespect throughout mov...\n",
       "3      1  classic anim film cartoon seri major charact g...\n",
       "4      0  frankli met real han su ying see portray ameri..."
      ]
     },
     "execution_count": 152,
     "metadata": {},
     "output_type": "execute_result"
    }
   ],
   "source": [
    "test_reviews.head()"
   ]
  },
  {
   "cell_type": "markdown",
   "metadata": {},
   "source": [
    "#### Bag of Words\n",
    "\n",
    "It is a common method in text analysis to extract features in a text document. It counts how many time the words appear in a document and creates a tally. The BOW feature extraction technique is implemented in scikit learn by the CountVectorizer."
   ]
  },
  {
   "cell_type": "code",
   "execution_count": 153,
   "metadata": {},
   "outputs": [],
   "source": [
    "from sklearn.feature_extraction.text import CountVectorizer\n",
    "\n",
    "bow_vectorizer = CountVectorizer(binary=True)\n",
    "bow_vectorizer.fit(train_reviews['normalized'])\n",
    "train_bow = bow_vectorizer.transform(train_reviews['normalized'])\n",
    "test_bow = bow_vectorizer.transform(test_reviews['normalized'])\n"
   ]
  },
  {
   "cell_type": "markdown",
   "metadata": {},
   "source": [
    "Import the needed library from scikit learn to create the machine learnign model. We will be using Logistic regression model to predict if a given review is positive or not."
   ]
  },
  {
   "cell_type": "code",
   "execution_count": 154,
   "metadata": {},
   "outputs": [],
   "source": [
    "from sklearn.linear_model import LogisticRegression\n",
    "from sklearn.model_selection import train_test_split\n",
    "from sklearn.metrics import f1_score\n",
    "from sklearn.metrics import accuracy_score"
   ]
  },
  {
   "cell_type": "markdown",
   "metadata": {},
   "source": [
    "Using the tain_test_split method to divide the train_reviews data set into train and test data"
   ]
  },
  {
   "cell_type": "code",
   "execution_count": 155,
   "metadata": {},
   "outputs": [],
   "source": [
    "X_train, X_test, y_train, y_test = train_test_split(train_bow, train_reviews['label'], random_state=4, test_size=0.3)"
   ]
  },
  {
   "cell_type": "markdown",
   "metadata": {},
   "source": [
    "Loop into possible values of c to deternine what value of c the gives high accuracy."
   ]
  },
  {
   "cell_type": "code",
   "execution_count": 156,
   "metadata": {},
   "outputs": [
    {
     "name": "stdout",
     "output_type": "stream",
     "text": [
      "Accuray from C=0.01: 0.8686666666666667\n",
      "Accuray from C=0.05: 0.8776\n",
      "Accuray from C=0.25: 0.8762666666666666\n",
      "Accuray from C=0.5: 0.8712\n",
      "Accuray from C=1: 0.8674666666666667\n"
     ]
    }
   ],
   "source": [
    "for c in [0.01, 0.05, 0.25, 0.5, 1]:\n",
    "    logreg = LogisticRegression(C=c)\n",
    "    logreg.fit(X_train, y_train)\n",
    "    print(\"Accuray from C=%s: %s\"\n",
    "         % (c, accuracy_score(y_test, logreg.predict(X_test))))"
   ]
  },
  {
   "cell_type": "markdown",
   "metadata": {},
   "source": [
    "Based from the above result, a c=0.5 gives a much better accuracy. Using this value, we create the final model. We will be using this time the entire training_reviews data as the train set and we will use the entire test_reviews data as the test set. The final model gives us an accuracy of 86% which is not bad."
   ]
  },
  {
   "cell_type": "code",
   "execution_count": 157,
   "metadata": {},
   "outputs": [
    {
     "name": "stdout",
     "output_type": "stream",
     "text": [
      "Final Accuracy: 0.86392\n"
     ]
    }
   ],
   "source": [
    "final_model = LogisticRegression(C=0.5)\n",
    "final_model.fit(train_bow, train_reviews['label'])\n",
    "print (\"Final Accuracy: %s\" \n",
    "       % accuracy_score(test_reviews['label'], final_model.predict(test_bow)))\n",
    "# Final Accuracy: 0.86392"
   ]
  },
  {
   "cell_type": "code",
   "execution_count": null,
   "metadata": {},
   "outputs": [],
   "source": []
  }
 ],
 "metadata": {
  "kernelspec": {
   "display_name": "Python 3",
   "language": "python",
   "name": "python3"
  },
  "language_info": {
   "codemirror_mode": {
    "name": "ipython",
    "version": 3
   },
   "file_extension": ".py",
   "mimetype": "text/x-python",
   "name": "python",
   "nbconvert_exporter": "python",
   "pygments_lexer": "ipython3",
   "version": "3.6.4"
  }
 },
 "nbformat": 4,
 "nbformat_minor": 2
}
